{
 "cells": [
  {
   "cell_type": "markdown",
   "id": "a1547e88",
   "metadata": {},
   "source": [
    "# Exercise\n",
    "1. Rotate image by 45 degrees without cropping the sides of the image. (Hint: There are 2 strategies to tackle these problems). Use _\"lena.jfif\"_ as the input image.\n",
    "    - Use external libraries `imutils`.  \n",
    "    - Modify the transformation matrix.\n",
    "2. Use the images with titles: _\"flower.jfif\"_ and _\"native-bee.png\"_. I want to put flower above an image. If I add two images, it will change color. If I blend it, I get a transparent effect. But I want it to be opaque. If it was a rectangular region, we could use the ROI as we did in the previous section. But flower is not a rectangular region. This is where bitwise operations, like AND, OR, NOT and XOR really come in handy. The associated functions are `cv.bitwise_and()`, `cv.bitwise_or()` and `cv.bitwise_not()`. You need to use `cv.threshold` function to segment the flower. Please refer to [online documentation](https://docs.opencv.org/4.x/d0/d86/tutorial_py_image_arithmetics.html) for more info. The result should resemble the following:  \n",
    "![bee and flowers](img_embed/activity3.PNG \"bee_flower\")\n",
    "3. Write a function that randomly crop the central region of an image. The method signature should be as shown in the following:\n",
    "```\n",
    "random_center_crop(image, min_crop_ratio, max_crop_ratio)\n",
    "```\n",
    "\n",
    "4. Aside from Gaussian noise, name another common type of noise. Write the code to demonstrate how the noise can be included in an image."
   ]
  },
  {
   "cell_type": "code",
   "execution_count": 4,
   "id": "91e1e859",
   "metadata": {},
   "outputs": [],
   "source": [
    "import cv2 as cv \n",
    "import numpy as np\n",
    "import matplotlib.pyplot as plt\n",
    "from utils import display_image, display_images"
   ]
  },
  {
   "cell_type": "markdown",
   "id": "225597a4",
   "metadata": {},
   "source": [
    "# Question 1\n",
    "1. Rotate image by 45 degrees without cropping the sides of the image. (Hint: There are 2 strategies to tackle these problems). Use _\"lena.jfif\"_ as the input image.\n",
    "    - Use external libraries `imutils`.  \n",
    "    - Modify the transformation matrix."
   ]
  },
  {
   "cell_type": "code",
   "execution_count": 8,
   "id": "0746ce15",
   "metadata": {},
   "outputs": [
    {
     "name": "stdout",
     "output_type": "stream",
     "text": [
      "Collecting imutils\n",
      "  Downloading imutils-0.5.4.tar.gz (17 kB)\n",
      "  Preparing metadata (setup.py): started\n",
      "  Preparing metadata (setup.py): finished with status 'done'\n",
      "Building wheels for collected packages: imutils\n",
      "  Building wheel for imutils (setup.py): started\n",
      "  Building wheel for imutils (setup.py): finished with status 'done'\n",
      "  Created wheel for imutils: filename=imutils-0.5.4-py3-none-any.whl size=25854 sha256=88c9b2a142e3b5871136ece97682fc4c72fd942aa1df2a18e9a9bd85addb30a9\n",
      "  Stored in directory: c:\\users\\asus\\appdata\\local\\pip\\cache\\wheels\\c2\\02\\32\\f3617a9f68bcc67eda3ebeb4514eba18f62e81ff439428109d\n",
      "Successfully built imutils\n",
      "Installing collected packages: imutils\n",
      "Successfully installed imutils-0.5.4\n"
     ]
    }
   ],
   "source": [
    "!pip install imutils"
   ]
  },
  {
   "cell_type": "code",
   "execution_count": 9,
   "id": "ece0170f",
   "metadata": {},
   "outputs": [],
   "source": [
    "import imutils"
   ]
  },
  {
   "cell_type": "code",
   "execution_count": 11,
   "id": "8f0bbe90",
   "metadata": {},
   "outputs": [],
   "source": [
    "img = cv.imread(\"images/lena.jfif\")\n",
    "\n",
    "height, width = img.shape[:2]\n",
    "center = (width // 2, height // 2)\n",
    "angle = 90\n",
    "scale = 1\n",
    "M = cv.getRotationMatrix2D(center, angle, scale)\n",
    "dst = cv.warpAffine(img, M, (width, height))\n",
    "\n",
    "display_images([img, dst], (\"original\", \"rotation\"))"
   ]
  },
  {
   "cell_type": "code",
   "execution_count": 7,
   "id": "5599855f",
   "metadata": {},
   "outputs": [
    {
     "data": {
      "text/plain": [
       "array([[ 6.12323400e-17,  1.00000000e+00, -1.42108547e-14],\n",
       "       [-1.00000000e+00,  6.12323400e-17,  2.24000000e+02]])"
      ]
     },
     "execution_count": 7,
     "metadata": {},
     "output_type": "execute_result"
    }
   ],
   "source": [
    "M"
   ]
  },
  {
   "cell_type": "code",
   "execution_count": 14,
   "id": "8c14c822",
   "metadata": {},
   "outputs": [],
   "source": [
    "dst1 = imutils.rotate(img, angle, center, scale)\n",
    "display_images([img, dst1], (\"original\", \"rotation\"))"
   ]
  },
  {
   "cell_type": "markdown",
   "id": "ec9b46ec",
   "metadata": {},
   "source": [
    "# Question 2\n",
    "2. Use the images with titles: _\"flower.jfif\"_ and _\"native-bee.png\"_. I want to put flower above an image. If I add two images, it will change color. If I blend it, I get a transparent effect. But I want it to be opaque. If it was a rectangular region, we could use the ROI as we did in the previous section. But flower is not a rectangular region. This is where bitwise operations, like AND, OR, NOT and XOR really come in handy. The associated functions are `cv.bitwise_and()`, `cv.bitwise_or()` and `cv.bitwise_not()`. You need to use `cv.threshold` function to segment the flower. Please refer to [online documentation](https://docs.opencv.org/4.x/d0/d86/tutorial_py_image_arithmetics.html) for more info. The result should resemble the following:  \n",
    "![bee and flowers](img_embed/activity3.PNG \"bee_flower\")"
   ]
  },
  {
   "cell_type": "code",
   "execution_count": 5,
   "id": "9f158922",
   "metadata": {},
   "outputs": [],
   "source": [
    "img1 = cv.imread(\"images/flower.jfif\")\n",
    "img2 = cv.imread(\"images/native-bee.png\")\n",
    "\n",
    "# I want to put logo on top-left corner, So I create a ROI\n",
    "rows, cols, channels = img1.shape\n",
    "roi = img2[0:rows, 0:cols]\n",
    "\n",
    "# Now create a mask of logo and create its inverse mask also\n",
    "img1gray = cv.cvtColor(img1,cv.COLOR_BGR2GRAY)\n",
    "ret, mask = cv.threshold(img1gray, 72, 255, cv.THRESH_BINARY)\n",
    "mask_inv = cv.bitwise_not(mask)\n",
    "\n",
    "# Now black-out the area of logo in ROI\n",
    "img2_bg = cv.bitwise_and(roi,roi,mask = mask_inv)\n",
    "\n",
    "# Take only region of logo from logo image.\n",
    "img1_fg = cv.bitwise_and(img1,img1,mask = mask)\n",
    "\n",
    "# Put logo in ROI and modify the main image\n",
    "dst = cv.add(img2_bg,img1_fg)\n",
    "img2[0:rows, 0:cols ] = dst\n",
    "\n",
    "cv.imshow('res',img2)\n",
    "cv.waitKey(0)\n",
    "cv.destroyAllWindows()"
   ]
  },
  {
   "cell_type": "markdown",
   "id": "526548b5",
   "metadata": {},
   "source": [
    "# Question 3\n",
    "3. Write a function that randomly crop the central region of an image. The method signature should be as shown in the following:\n",
    "```\n",
    "random_center_crop(image, min_crop_ratio, max_crop_ratio)\n",
    "```\n"
   ]
  },
  {
   "cell_type": "code",
   "execution_count": 5,
   "id": "a1831fc0",
   "metadata": {},
   "outputs": [],
   "source": [
    "import random"
   ]
  },
  {
   "cell_type": "code",
   "execution_count": 14,
   "id": "2531bc8c",
   "metadata": {},
   "outputs": [],
   "source": [
    "def random_center_crop(image, min_crop_ratio, max_crop_ratio):\n",
    "    # Get the image height and width\n",
    "    height, width = image.shape[:2]\n",
    "\n",
    "    # Ensure the crop ratios are between 0 and 1\n",
    "    assert 0 < min_crop_ratio <= max_crop_ratio <= 1, \"Crop ratios should be between 0 and 1\"\n",
    "\n",
    "    # Randomly determine the crop ratio\n",
    "    crop_ratio = np.random.uniform(min_crop_ratio, max_crop_ratio)\n",
    "\n",
    "    # Calculate the size of the crop\n",
    "    crop_height = int(height * crop_ratio)\n",
    "    crop_width = int(width * crop_ratio)\n",
    "\n",
    "    # Calculate the center of the image\n",
    "    center_y, center_x = height // 2, width // 2\n",
    "\n",
    "    # Calculate the top-left corner of the crop\n",
    "    start_y = max(0, center_y - crop_height // 2)\n",
    "    start_x = max(0, center_x - crop_width // 2)\n",
    "\n",
    "    # Calculate the bottom-right corner of the crop\n",
    "    end_y = min(height, start_y + crop_height)\n",
    "    end_x = min(width, start_x + crop_width)\n",
    "\n",
    "    # Crop the image\n",
    "    cropped_image = image[start_y:end_y, start_x:end_x]\n",
    "\n",
    "    return cropped_image"
   ]
  },
  {
   "cell_type": "code",
   "execution_count": 15,
   "id": "a0f45544",
   "metadata": {},
   "outputs": [],
   "source": [
    "# Example usage:\n",
    "# Load an image\n",
    "\n",
    "image = cv.imread(\"images/chessboard.png\")\n",
    "\n",
    "# Perform a random center crop\n",
    "cropped_image = random_center_crop(image, 0.5, 0.8)\n",
    "\n",
    "# Display the original and cropped images\n",
    "cv.imshow(\"Original\", image)\n",
    "cv.imshow(\"Cropped\", cropped_image)\n",
    "cv.waitKey(0)\n",
    "cv.destroyAllWindows()\n"
   ]
  },
  {
   "cell_type": "code",
   "execution_count": null,
   "id": "efc011db",
   "metadata": {},
   "outputs": [],
   "source": [
    "def random_center_crop(image, min_crop_ratio, max_crop_ratio):\n",
    "    height, width = image.shape[:2]\n",
    "    center = (width // 2, height // 2)"
   ]
  },
  {
   "cell_type": "markdown",
   "id": "f0938eb6",
   "metadata": {},
   "source": [
    "# Question 4\n",
    "4. Aside from Gaussian noise, name another common type of noise. Write the code to demonstrate how the noise can be included in an image."
   ]
  },
  {
   "cell_type": "code",
   "execution_count": 28,
   "id": "a25a5ca2",
   "metadata": {},
   "outputs": [],
   "source": [
    "# Salt and pepper Noise\n",
    "def add_salt_and_pepper_noise(img, salt_prob, pepper_prob):\n",
    "    \"\"\"\"\"\"\n",
    "    noisy_image = img.copy()\n",
    "    # add salt noise\n",
    "    salt_mask = np.random.rand(*img.shape) < salt_prob\n",
    "    noisy_image[salt_mask] = 255\n",
    "    \n",
    "    # add pepper noise\n",
    "    pepper_mask = np.random.rand(*img.shape) < pepper_prob\n",
    "    noisy_image[pepper_mask] = 0\n",
    "    \n",
    "    return noisy_image"
   ]
  },
  {
   "cell_type": "code",
   "execution_count": 29,
   "id": "16765408",
   "metadata": {},
   "outputs": [],
   "source": [
    "img = cv.imread(\"images/room.jpg\")\n",
    "noise = add_salt_and_pepper_noise(img, 0.01, 0.01) # sigma increase, more noise \n",
    "   \n",
    "display_images([img, noise], (\"original\", \"noise\"))"
   ]
  },
  {
   "cell_type": "code",
   "execution_count": null,
   "id": "1cd693de",
   "metadata": {},
   "outputs": [],
   "source": []
  }
 ],
 "metadata": {
  "kernelspec": {
   "display_name": "Python 3 (ipykernel)",
   "language": "python",
   "name": "python3"
  },
  "language_info": {
   "codemirror_mode": {
    "name": "ipython",
    "version": 3
   },
   "file_extension": ".py",
   "mimetype": "text/x-python",
   "name": "python",
   "nbconvert_exporter": "python",
   "pygments_lexer": "ipython3",
   "version": "3.10.9"
  }
 },
 "nbformat": 4,
 "nbformat_minor": 5
}
